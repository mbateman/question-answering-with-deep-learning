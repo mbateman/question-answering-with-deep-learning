{
 "cells": [
  {
   "cell_type": "markdown",
   "id": "2b4ae722",
   "metadata": {},
   "source": [
    "# Extracting Paragraphs from the EU Taxonomy Document\n"
   ]
  },
  {
   "cell_type": "code",
   "execution_count": 1,
   "id": "bafd6505",
   "metadata": {},
   "outputs": [],
   "source": [
    "import re\n",
    "\n",
    "import textract\n",
    "import pandas as pd"
   ]
  },
  {
   "cell_type": "markdown",
   "id": "a7c9afb7",
   "metadata": {},
   "source": [
    "## Objective\n",
    "\n",
    "Process the EU sustainable finance taxonomy PDF file and extract and clean all the paragraphs in the document"
   ]
  },
  {
   "cell_type": "markdown",
   "id": "543f7ca7",
   "metadata": {
    "heading_collapsed": true
   },
   "source": [
    "## Download the EU sustainable finance taxonomy PDF from Taxonomy Report: Technical Annex."
   ]
  },
  {
   "cell_type": "markdown",
   "id": "6fbab343",
   "metadata": {},
   "source": [
    "## Load the EU sustainable finance taxonomy PDF file using the textract library and decode it. \n",
    "\n",
    "Look through the text to ensure that you have got all the text and that the decoding did not produce any bad characters."
   ]
  },
  {
   "cell_type": "code",
   "execution_count": 2,
   "id": "c8c4e42b",
   "metadata": {},
   "outputs": [],
   "source": [
    "text = textract.process('EUtaxonomy.pdf')"
   ]
  },
  {
   "cell_type": "code",
   "execution_count": 3,
   "id": "3347b821",
   "metadata": {},
   "outputs": [],
   "source": [
    "text = text.decode()"
   ]
  },
  {
   "cell_type": "code",
   "execution_count": 3,
   "id": "167913a6",
   "metadata": {},
   "outputs": [],
   "source": [
    "# text = textract.process('EUtaxonomy.pdf', method='pdfminer').decode()"
   ]
  },
  {
   "cell_type": "markdown",
   "id": "551d1a94",
   "metadata": {},
   "source": [
    "## Use regular expressions to split the paragraphs and clean the text. \n",
    "\n",
    "The loaded text will be in raw format and will need to be segmented into paragraphs. These paragraphs will also need to be cleaned by removing newline characters and other characters that do not bring any semantic value to the paragraph (such as tabs or bullet points)."
   ]
  },
  {
   "cell_type": "code",
   "execution_count": 4,
   "id": "523b2028",
   "metadata": {},
   "outputs": [
    {
     "data": {
      "text/plain": [
       "1320996"
      ]
     },
     "execution_count": 4,
     "metadata": {},
     "output_type": "execute_result"
    }
   ],
   "source": [
    "len(text)"
   ]
  },
  {
   "cell_type": "code",
   "execution_count": 108,
   "id": "0a128135",
   "metadata": {},
   "outputs": [
    {
     "data": {
      "text/plain": [
       "'Updated methodology & Updated Technical Screening Criteria\\n- 1-\\n\\nMarch 2020\\n\\n\\x0cAbout this report\\nThis document includes an updated Part B: Methodology from the June 2019 report and an updated Part\\nF: Full list of technical screening criteria. The other original sections from the June 2019 report can be\\nfound as labelled in the June 2019 report.\\nPART A\\n\\nExplanation of the Taxonomy approach. This section sets out the role and importance of\\nsustainable finance in Europe from a policy and investment perspective, the rationale for\\nthe development of an EU Taxonomy, the daft regulation and the mandate of the TEG.\\n\\nPART B\\n\\nMethodology. This explains the methodologies for developing technical screening\\ncriteria for climate change mitigation objectives, adaptation objectives and ‘do no\\nsignificant harm’ to other environmental objectives in the legislative proposal.\\nThis has been updated since 2019.\\n\\nPART C\\n\\nTaxonomy user and use case analysis. This section provides practical guidance to\\npotential users of the Taxonomy, including case studies.\\n\\nPART D\\n\\nEconomic impacts of the Taxonomy. This section provides the TEG’s analysis of the\\nlikely economic impacts of establishing an EU Taxonomy.\\n\\nPART E\\n\\nNext steps for the Taxonomy. This section elaborates on unresolved issues and\\npotential ways forward for the Taxonomy and the technical work of the Platform on\\nSustainable Finance.\\n\\nPART F\\n\\nFull list of technical screening criteria. This annex sets out the sector- and\\neconomic activity-specific technical screening criteria and rationale for the TEG’s\\nanalysis. These have been updated since 2019.\\n\\nDisclaimer\\nThis report represents the overall view of the members of the Technical Expert\\nGroup, and although it represents such a consensus, it may not necessarily, on all\\ndetails, represent the individual views of member institutions or experts. The views\\nreflected in this Report are the views of the experts only. This report does not reflect\\nthe views of the European Commission or its services.\\n\\n- 2-\\n\\n\\x0cContents\\nMethodology statements ....................................................................10\\n1.\\n\\nSubstantial contribution to Climate change mitigation .......................................................... 10\\n1.1\\n\\nWork process – conceptual approach ............................................................................ 10\\n\\n1.2\\n\\nDefining substantial contribution to climate change mitigation ....................................... 14\\n\\n1.3\\n\\nEligibility of finance for activities contributing substantially to mitigation ........................ 16\\n\\n1.4\\n\\nFurther development ....................................................................................................... 16\\n\\n2.\\n\\nSubstantial contribution to Climate change adaptation ......................................................... 18\\n2.1\\n\\nWork process – conceptual approach ............................................................................ 18\\n\\n2.2\\n\\nDefining substantial contribution to climate change adaptation ..................................... 20\\n\\n2.3\\n\\nScreening criteria for activities making a substantial contribution to adaptation ............ 25\\n\\n2.4\\n\\nEligibility of finance for activities contributing substantially to adaptation ....................... 27\\n\\n2.5\\n\\nClassification of climate-related hazards ........................................................................ 28\\n\\n3.\\n\\nDo no significant harm (DNSH) ............................................................................................. 29\\n3.1\\n\\nDNSH to environmental objectives 3-6 ........................................................................... 29\\n\\n3.2\\n\\nDNSH to climate change adaptation ............................................................................... 29\\n\\n3.3\\n\\nDNSH to environmental objectives 3-6 ........................................................................... 31\\n\\nEligible NACE Codes - Points of Note .................................................36\\n3.4\\n\\nUse of NACE ................................................................................................................... 36\\n\\n3.5\\n\\nAssessing the Taxonomy criteria for Green Debt and Loans ......................................... 37\\n\\nTechnical screening criteria: substantial contribution to climate\\nchange mitigation ...............................................................................39\\n1.\\n\\n2.\\n\\nForestry ................................................................................................................................. 40\\n1.1\\n\\nAfforestation .................................................................................................................... 52\\n\\n1.2\\n\\nRehabilitation, Restoration .............................................................................................. 60\\n\\n1.3\\n\\nReforestation ................................................................................................................... 68\\n\\n1.4\\n\\nExisting forest management ........................................................................................... 76\\n\\n1.5\\n\\nConservation forest ......................................................................................................... 85\\nAgriculture ........................................................................................................................... 102\\n\\n- 3-\\n\\n\\x0c2.1\\n\\nGrowing of perennial crops ........................................................................................... 112\\n\\n2.3\\n\\nGrowing of non-perennial crops .................................................................................... 126\\n\\n2.4\\n\\nLivestock production ..................................................................................................... 140\\n\\n3.\\n\\nManufacturing...................................................................................................................... 155\\n3.1\\n\\nManufacture of Low carbon technologies ..................................................................... 162\\n\\n3.2\\n\\nManufacture of Cement ................................................................................................ 167\\n\\n3.3\\n\\nManufacture of Aluminium ............................................................................................ 172\\n\\n3.4\\n\\nManufacture of Iron and Steel ...................................................................................... 176\\n\\n3.5\\n\\nManufacture of Hydrogen ............................................................................................. 180\\n\\n3.6\\n\\nManufacture of other inorganic basic chemicals .......................................................... 183\\n\\n3.7\\n\\nManufacture of other organic basic chemicals ............................................................. 189\\n\\n3.8\\n\\nManufacture of fertilizers and nitrogen compounds ...................................................... 196\\n\\n3.9\\n\\nManufacture of plastics in primary form ........................................................................ 200\\n\\n4.\\n\\nElectricity, gas, steam and air conditioning supply ............................................................. 205\\n4.1\\n\\nProduction of Electricity from Solar PV ......................................................................... 212\\n\\n4.2\\n\\nProduction of Electricity from Concentrated Solar Power ............................................. 215\\n\\n4.3\\n\\nProduction of Electricity from Wind Power.................................................................... 218\\n\\n4.4\\n\\nProduction of Electricity from Ocean Energy ................................................................ 221\\n\\n4.5\\n\\nProduction of Electricity from Hydropower.................................................................... 224\\n\\n4.6\\n\\nProduction of Electricity from Geothermal .................................................................... 228\\n\\n4.7\\n\\nProduction of Electricity from Gas (not exclusive to natural gas) ................................. 231\\n\\n4.8\\n\\nProduction of Electricity from Bioenergy (Biomass, Biogas and Biofuels) ................... 234\\n\\n4.9\\n\\nTransmission and Distribution of Electricity .................................................................. 238\\n\\n4.10\\n\\nStorage of Electricity ..................................................................................................... 243\\n\\n4.11\\n\\nStorage of Thermal Energy ........................................................................................... 245\\n\\n4.12\\n\\nStorage of Hydrogen ..................................................................................................... 247\\n\\n4.13\\n\\nManufacture of Biomass, Biogas or Biofuels ................................................................ 249\\n\\n4.14\\n\\nRetrofit of Gas Transmission and Distribution Networks .............................................. 252\\n\\n4.15\\n\\nDistrict Heating/Cooling Distribution ............................................................................. 255\\n\\n4.16\\n\\nInstallation and operation of Electric Heat Pumps ........................................................ 258\\n\\n4.17\\n\\nCogeneration of Heat/Cool and Power from Concentrated Solar Power ..................... 260\\n\\n4.18\\n\\nCogeneration of Heat/Cool and Power from Geothermal Energy ................................ 263\\n\\n4.19\\n\\nCogeneration of Heat/Cool and Power from Gas (not exclusive to natural gas) .......... 266\\n\\n- 4-\\n\\n\\x0c4.20\\n\\nCogeneration of Heat/Cool and Power from Bioenergy (Biomass, Biogas, Biofuels) .. 269\\n\\n4.21\\n\\nProduction of Heat/Cool from Concentrated Solar Power ............................................ 273\\n\\n4.22\\n\\nProduction of Heat/Cool from Geothermal.................................................................... 275\\n\\n4.23\\n\\nProduction of Heat/Cool from Gas Combustion ........................................................... 278\\n\\n4.24\\n\\nProduction of Heat/Cool from Bioenergy (Biomass, Biogas and Biofuels) ................... 281\\n\\n4.25\\n\\nProduction of Heat/Cool using Waste Heat ........................................................'"
      ]
     },
     "execution_count": 108,
     "metadata": {},
     "output_type": "execute_result"
    }
   ],
   "source": [
    "text[0:10000]"
   ]
  },
  {
   "cell_type": "code",
   "execution_count": 116,
   "id": "8e2e7d1c",
   "metadata": {},
   "outputs": [],
   "source": [
    "paragraphs = re.split('\\D\\n+\\D+\\.\\n+', text)"
   ]
  },
  {
   "cell_type": "code",
   "execution_count": 117,
   "id": "a2fcc1dc",
   "metadata": {},
   "outputs": [
    {
     "data": {
      "text/plain": [
       "1564"
      ]
     },
     "execution_count": 117,
     "metadata": {},
     "output_type": "execute_result"
    }
   ],
   "source": [
    "len(paragraphs)"
   ]
  },
  {
   "cell_type": "code",
   "execution_count": 103,
   "id": "e8059047",
   "metadata": {},
   "outputs": [],
   "source": [
    "def clean_paragraph(strg, ch='\\n'):\n",
    "    newStr = ''\n",
    "    previous = 0\n",
    "    for i in strg:\n",
    "        if i != ch:\n",
    "            newStr += i\n",
    "            previous = 0\n",
    "        else:\n",
    "            if not previous:\n",
    "                newStr += ' '\n",
    "            previous = 1\n",
    "    return newStr.strip()"
   ]
  },
  {
   "cell_type": "code",
   "execution_count": 104,
   "id": "da8fa7cb",
   "metadata": {},
   "outputs": [
    {
     "data": {
      "text/plain": [
       "'PART F\\n\\nFull list of technical screening criteria. This annex sets out the sector- and\\neconomic activity-specific technical screening criteria and rationale for the TEG’s\\nanalysis. These have been updated since 2019.'"
      ]
     },
     "execution_count": 104,
     "metadata": {},
     "output_type": "execute_result"
    }
   ],
   "source": [
    "paragraphs[2]"
   ]
  },
  {
   "cell_type": "code",
   "execution_count": 118,
   "id": "c41865b3",
   "metadata": {},
   "outputs": [
    {
     "data": {
      "text/plain": [
       "'- 2-\\n\\n\\x0cContents\\nMethodology statements ....................................................................10\\n1.\\n\\nSubstantial contribution to Climate change mitigation .......................................................... 10\\n1.1\\n\\nWork process – conceptual approach ............................................................................ 10\\n\\n1.2\\n\\nDefining substantial contribution to climate change mitigation ....................................... 14\\n\\n1.3\\n\\nEligibility of finance for activities contributing substantially to mitigation ........................ 16\\n\\n1.4\\n\\nFurther development ....................................................................................................... 16\\n\\n2.\\n\\nSubstantial contribution to Climate change adaptation ......................................................... 18\\n2.1\\n\\nWork process – conceptual approach ............................................................................ 18\\n\\n2.2\\n\\nDefining substantial contribution to climate change adaptation ..................................... 20\\n\\n2.3\\n\\nScreening criteria for activities making a substantial contribution to adaptation ............ 25\\n\\n2.4\\n\\nEligibility of finance for activities contributing substantially to adaptation ....................... 27\\n\\n2.5\\n\\nClassification of climate-related hazards ........................................................................ 28\\n\\n3.\\n\\nDo no significant harm (DNSH) ............................................................................................. 29\\n3.1\\n\\nDNSH to environmental objectives 3-6 ........................................................................... 29\\n\\n3.2\\n\\nDNSH to climate change adaptation ............................................................................... 29\\n\\n3.3\\n\\nDNSH to environmental objectives 3-6 ........................................................................... 31\\n\\nEligible NACE Codes - Points of Note .................................................36\\n3.4\\n\\nUse of NACE ................................................................................................................... 36\\n\\n3.5\\n\\nAssessing the Taxonomy criteria for Green Debt and Loans ......................................... 37\\n\\nTechnical screening criteria: substantial contribution to climate\\nchange mitigation ...............................................................................39\\n1.\\n\\n2.\\n\\nForestry ................................................................................................................................. 40\\n1.1\\n\\nAfforestation .................................................................................................................... 52\\n\\n1.2\\n\\nRehabilitation, Restoration .............................................................................................. 60\\n\\n1.3\\n\\nReforestation ................................................................................................................... 68\\n\\n1.4\\n\\nExisting forest management ........................................................................................... 76\\n\\n1.5\\n\\nConservation forest ......................................................................................................... 85\\nAgriculture ........................................................................................................................... 102\\n\\n- 3-\\n\\n\\x0c2.1\\n\\nGrowing of perennial crops ........................................................................................... 112\\n\\n2.3\\n\\nGrowing of non-perennial crops .................................................................................... 126\\n\\n2.4\\n\\nLivestock production ..................................................................................................... 140\\n\\n3.\\n\\nManufacturing...................................................................................................................... 155\\n3.1\\n\\nManufacture of Low carbon technologies ..................................................................... 162\\n\\n3.2\\n\\nManufacture of Cement ................................................................................................ 167\\n\\n3.3\\n\\nManufacture of Aluminium ............................................................................................ 172\\n\\n3.4\\n\\nManufacture of Iron and Steel ...................................................................................... 176\\n\\n3.5\\n\\nManufacture of Hydrogen ............................................................................................. 180\\n\\n3.6\\n\\nManufacture of other inorganic basic chemicals .......................................................... 183\\n\\n3.7\\n\\nManufacture of other organic basic chemicals ............................................................. 189\\n\\n3.8\\n\\nManufacture of fertilizers and nitrogen compounds ...................................................... 196\\n\\n3.9\\n\\nManufacture of plastics in primary form ........................................................................ 200\\n\\n4.\\n\\nElectricity, gas, steam and air conditioning supply ............................................................. 205\\n4.1\\n\\nProduction of Electricity from Solar PV ......................................................................... 212\\n\\n4.2\\n\\nProduction of Electricity from Concentrated Solar Power ............................................. 215\\n\\n4.3\\n\\nProduction of Electricity from Wind Power.................................................................... 218\\n\\n4.4\\n\\nProduction of Electricity from Ocean Energy ................................................................ 221\\n\\n4.5\\n\\nProduction of Electricity from Hydropower.................................................................... 224\\n\\n4.6\\n\\nProduction of Electricity from Geothermal .................................................................... 228\\n\\n4.7\\n\\nProduction of Electricity from Gas (not exclusive to natural gas) ................................. 231\\n\\n4.8\\n\\nProduction of Electricity from Bioenergy (Biomass, Biogas and Biofuels) ................... 234\\n\\n4.9\\n\\nTransmission and Distribution of Electricity .................................................................. 238\\n\\n4.10\\n\\nStorage of Electricity ..................................................................................................... 243\\n\\n4.11\\n\\nStorage of Thermal Energy ........................................................................................... 245\\n\\n4.12\\n\\nStorage of Hydrogen ..................................................................................................... 247\\n\\n4.13\\n\\nManufacture of Biomass, Biogas or Biofuels ................................................................ 249\\n\\n4.14\\n\\nRetrofit of Gas Transmission and Distribution Networks .............................................. 252\\n\\n4.15\\n\\nDistrict Heating/Cooling Distribution ............................................................................. 255\\n\\n4.16\\n\\nInstallation and operation of Electric Heat Pumps ........................................................ 258\\n\\n4.17\\n\\nCogeneration of Heat/Cool and Power from Concentrated Solar Power ..................... 260\\n\\n4.18\\n\\nCogeneration of Heat/Cool and Power from Geothermal Energy ................................ 263\\n\\n4.19\\n\\nCogeneration of Heat/Cool and Power from Gas (not exclusive to natural gas) .......... 266\\n\\n- 4-\\n\\n\\x0c4.20\\n\\nCogeneration of Heat/Cool and Power from Bioenergy (Biomass, Biogas, Biofuels) .. 269\\n\\n4.21\\n\\nProduction of Heat/Cool from Concentrated Solar Power ............................................ 273\\n\\n4.22\\n\\nProduction of Heat/Cool from Geothermal.................................................................... 275\\n\\n4.23\\n\\nProduction of Heat/Cool from Gas Combustion ........................................................... 278\\n\\n4.24\\n\\nProduction of Heat/Cool from Bioenergy (Biomass, Biogas and Biofuels) ................... 281\\n\\n4.25\\n\\nProduction of Heat/Cool using Waste Heat .................................................................. 285\\n\\n5.\\n\\nWater, sewerage, waste and remediation ........................................................................... 287\\n5.1\\n\\nWater collection, treatment and supply ......................................................................... 293\\n\\n5.2\\n\\nCentralized wastewater treatment ................................................................................ 296\\n\\n5.3\\n\\nAnaerobic digestion of sewage sludge ......................................................................... 298\\n\\n5.4\\nfractions\\n\\nSeparate collection and transport of non-hazardous waste in source segregated\\n300\\n\\n5.5\\n\\nAnaerobic digestion of bio-waste .................................................................................. 302\\n\\n5.6\\n\\nComposting of bio-waste .............................................................................................. 305\\n\\n5.7\\n\\nMaterial recovery from non-hazardous waste .............................................................. 307\\n\\n5.8\\n\\nLandfill gas capture and utilization ................................................................................ 309\\n\\n5.9\\n\\nDirect Air Capture of CO2 ............................................................................................. 311\\n\\n5.10\\n\\nCapture of Anthropogenic Emissions ........................................................................... 313\\n\\n5.11\\n\\nTransport of CO2 .......................................................................................................... 316\\n\\n5.12\\n\\nPermanent Sequestration of Captured CO2 ................................................................. 319\\n\\n6.\\n\\nTransportation and storage ................................................................................................. 321\\n6.1\\n\\nPassenger rail transport (interurban) ............................................................................ 327\\n\\n6.2\\n\\nFreight rail transport ...................................................................................................... 330\\n\\n6.3\\n\\nPublic transport ............................................................................................................. 332\\n\\n6.4\\n\\nInfrastructure for low carbon transport (land transport) ................................................ 335\\n\\n6.5\\n\\nPassenger cars and commercial vehicles .................................................................... 339\\n\\n6.6\\n\\nFreight transport services by road ................................................................................ 343\\n\\n6.7\\n\\nInterurban scheduled road transport ............................................................................. 346\\n\\n6.8\\n\\nInland passenger water transport ................................................................................. 350\\n\\n6.9\\n\\nInland freight water transport ........................................................................................ 353\\n\\n6.10\\n\\nInfrastructure for low carbon transport (water transport) .............................................. 356\\n\\n7.\\n\\nInformation and communications ........................................................................................ 359\\n7.1\\n\\nData processing, hosting and related activities ............................................................ 363\\n\\n- 5-\\n\\n\\x0c7.2\\n8.\\n\\nData-driven solutions for GHG emission reductions ..................................................... 365\\nConstruction and real estate activities ................................................................................ 367\\n\\n8.1\\n\\nConstruction of new buildings ....................................................................................... 375\\n\\n8.2\\n\\nBuilding renovation ....................................................................................................... 379\\n\\n8.3\\n\\nIndividual measures and professional services ............................................................ 383\\n\\n8.4\\n\\nAcquisition and ownership ............................................................................................ 387\\n\\nTechnical screening criteria: substantial contribution to climate\\nchange adaptation ........................................................................... 391\\n1.\\n\\nForestry ............................................................................................................................... 395\\n1.1\\n\\nAfforestation .................................................................................................................. 395\\n\\n1.2\\n\\nRehabilitation, Restoration ............................................................................................ 398\\n\\n1.3\\n\\nReforestation ................................................................................................................. 398\\n\\n1.4\\n\\nExisting forest management ......................................................................................... 405\\n\\n1.5\\n\\nConservation forest ....................................................................................................... 409\\n\\n2.\\n\\nAgriculture ........................................................................................................................... 412\\n2.1\\n\\nGrowing of perennial crops ........................................................................................... 412\\n\\n2.2\\n\\nGrowing of non-perennial crops .................................................................................... 416\\n\\n2.3\\n\\nLivestock production ..................................................................................................... 423\\n\\n3.\\n\\nManufacturing...................................................................................................................... 427\\n3.1\\n\\nManufacture of Low carbon technologies ..................................................................... 427\\n\\n3.2\\n\\nManufacture of Cement ................................................................................................ 430\\n\\n3.3\\n\\nManufacture of Aluminium ............................................................................................ 433\\n\\n3.4\\n\\nManufacture of Iron and Steel ...................................................................................... 436\\n\\n3.5\\n\\nManufacture of Hydrogen ............................................................................................. 439\\n\\n3.6\\n\\nManufacture of other inorganic basic chemicals .......................................................... 442\\n\\n3.7\\n\\nManufacture of other organic basic chemicals ............................................................. 447\\n\\n3.8\\n\\nManufacture of fertilizers and nitrogen compounds ...................................................... 451\\n\\n3.9\\n\\nManufacture of plastics in primary form ........................................................................ 453\\n\\n4.\\n\\nElectricity, gas, steam and air conditioning supply ............................................................. 456\\n4.1\\n\\nProduction of Electricity from Solar PV ......................................................................... 456\\n\\n4.2\\n\\nProduction of Electricity from Concentrated Solar Power ............................................. 458\\n\\n4.3\\n\\nProduction of Electricity from Wind Power.................................................................... 460\\n\\n- 6-\\n\\n\\x0c4.4\\n\\nProduction of Electricity from Ocean Energy ................................................................ 462\\n\\n4.5\\n\\nProduction of Electricity from Hydropower.................................................................... 464\\n\\n4.6\\n\\nProduction of Electricity from Geothermal .................................................................... 471\\n\\n4.7\\n\\nProduction of Electricity from Gas (not exclusive to natural gas) ................................. 473\\n\\n4.8\\n\\nProduction of Electricity from Bioenergy (Biomass, Biogas and Biofuels) ................... 475\\n\\n4.9\\n\\nTransmission and Distribution of Electricity .................................................................. 479\\n\\n4.10\\n\\nStorage of Electricity ..................................................................................................... 485\\n\\n4.11\\n\\nStorage of Thermal Energy ........................................................................................... 487\\n\\n4.12\\n\\nStorage of Hydrogen ..................................................................................................... 489\\n\\n4.13\\n\\nManufacture of Biomass, Biogas or Biofuels ................................................................ 491\\n\\n4.14\\n\\nRetrofit of Gas Transmission and Distribution Networks .............................................. 493\\n\\n4.15\\n\\nDistrict Heating/Cooling Distribution ............................................................................. 495\\n\\n4.16\\n\\nInstallation and operation of Electric Heat Pumps ........................................................ 497\\n\\n4.17\\n\\nCogeneration of Heat/Cool and Power from Concentrated Solar Power ..................... 498\\n\\n4.18\\n\\nCogeneration of Heat/Cool and Power from Geothermal Energy ................................ 500\\n\\n4.19\\n\\nCogeneration of Heat/Cool and Power from Gas (not exclusive to natural gas) .......... 502\\n\\n4.20\\n\\nCogeneration of Heat/Cool and Power from Bioenergy (Biomass, Biogas, Biofuels) .. 504\\n\\n4.22\\n\\nProduction of Heat/Cool from Concentrated Solar Power ............................................ 507\\n\\n4.23\\n\\nProduction of Heat/Cool from Geothermal.................................................................... 509\\n\\n4.24\\n\\nProduction of Heat/Cool from Gas (not exclusive to natural gas) ................................ 511\\n\\n4.25\\n\\nProduction of Heat/Cool from Bioenergy (Biomass, Biogas and Biofuels) ................... 513\\n\\n4.26\\n\\nProduction of Heat/Cool using Waste Heat .................................................................. 516\\n\\n5.\\n\\nWater, sewerage, waste and remediation ........................................................................... 518\\n5.1\\n\\nWater collection, treatment and supply ......................................................................... 518\\n\\n5.2\\n\\nCentralized wastewater treatment ................................................................................ 520\\n\\n5.3\\n\\nAnaerobic digestion of sewage sludge ......................................................................... 526\\n\\n5.4\\nfractions\\n\\nSeparate collection and transport of non-hazardous waste in source segregated\\n531\\n\\n5.5\\n\\nAnaerobic digestion of bio-waste .................................................................................. 532\\n\\n5.6\\n\\nComposting of bio-waste .............................................................................................. 534\\n\\n5.7\\n\\nMaterial recovery from non-hazardous waste .............................................................. 536\\n\\n5.8\\n\\nLandfill gas capture and utilization ................................................................................ 537\\n\\n5.9\\n\\nDirect Air Capture of CO2 ............................................................................................. 539\\n\\n- 7-\\n\\n\\x0c5.10\\n\\nCapture of Anthropogenic Emissions ........................................................................... 541\\n\\n5.11\\n\\nTransport of CO2 .......................................................................................................... 543\\n\\n5.12\\n\\nPermanent Sequestration of Captured CO2 ................................................................. 545\\n\\n6.\\n\\nTransportation and storage ................................................................................................. 547\\n6.1\\n\\nPassenger rail transport (interurban) ............................................................................ 547\\n\\n6.2\\n\\nFreight rail transport ...................................................................................................... 549\\n\\n6.3\\n\\nPublic transport ............................................................................................................. 551\\n\\n6.4\\n\\nInfrastructure for low carbon transport (land transport) ................................................ 553\\n\\n6.5\\n\\nPassenger cars and commercial vehicles .................................................................... 556\\n\\n6.6\\n\\nFreight transport services by road ................................................................................ 558\\n\\n6.7\\n\\nInterurban scheduled road transport ............................................................................. 560\\n\\n6.8\\n\\nInland passenger water transport ................................................................................. 562\\n\\n6.9\\n\\nInland freight water transport ........................................................................................ 564\\n\\n6.10\\n\\nInfrastructure for low carbon transport (water transport) .............................................. 566\\n\\n7.\\n\\nBuildings .............................................................................................................................. 568\\n7.1\\n\\nConstruction of new buildings ....................................................................................... 568\\n\\n7.2\\n\\nBuilding renovation ....................................................................................................... 571\\n\\n8.\\n\\nFinancial and insurance activities ....................................................................................... 573\\n8.1\\n\\n9.\\n\\nNon-life insurance ......................................................................................................... 574\\nProfessional, scientific and technical activities ................................................................... 578\\n\\n9.1\\nEngineering activities and related technical consultancy dedicated to adaptation to\\nclimate change ................................................................................................................................... 578\\n\\nAdditional adaptation activities for future consideration .............. 580\\n10.\\n\\nProfessional, scientific and technical activities ................................................................... 582\\n\\n10.1\\n11.\\n\\nResearch and development (natural sciences and engineering) ................................. 582\\nInformation and communication .......................................................................................... 584\\n\\n11.1\\nforecast\\n\\nProvision of specialised telecommunications applications for weather monitoring and\\n584\\n\\nSectoral climate sensitivity matrices ............................................. 586\\n1.\\n\\nAgriculture, Forestry ............................................................................................................ 586\\n\\n2.\\n\\nElectricity, Gas, Steam and Air Conditioning Supply .......................................................... 589\\n\\n3.\\n\\nInformation and Communication ......................................................................................... 589\\n\\n- 8-\\n\\n\\x0c4.\\n\\nFinancial and Insurance Activities ....................................................................................... 592\\n\\n5.\\n\\nWater Supply, Sewerage, Waste Management and Remediation Activities ...................... 593\\n\\n- 9-\\n\\n\\x0cMethodology statements\\n1.\\nSUBSTANTIAL CONTRIBUTION TO CLIMATE CHANGE\\nMITIGATION\\n1.1\\n\\nWork process – conceptual approach\\n\\nIn the June 2019 report, the TEG explained the process used to assess and select economic activities for\\ninclusion in the Taxonomy. (Shown in Figure 1). The Taxonomy Regulation has not materially change'"
      ]
     },
     "execution_count": 118,
     "metadata": {},
     "output_type": "execute_result"
    }
   ],
   "source": [
    "paragraphs[3]"
   ]
  },
  {
   "cell_type": "code",
   "execution_count": 106,
   "id": "1319640a",
   "metadata": {},
   "outputs": [
    {
     "data": {
      "text/plain": [
       "'- 2- \\x0cContents Methodology statements ....................................................................10 1. Substantial contribution to Climate change mitigation .......................................................... 10 1.1 Work process – conceptual approach ............................................................................ 10 1.2 Defining substantial contribution to climate change mitigation ....................................... 14 1.3 Eligibility of finance for activities contributing substantially to mitigation ........................ 16 1.4 Further development ....................................................................................................... 16 2. Substantial contribution to Climate change adaptation ......................................................... 18 2.1 Work process – conceptual approach ............................................................................ 18 2.2 Defining substantial contribution to climate change adaptation ..................................... 20 2.3 Screening criteria for activities making a substantial contribution to adaptation ............ 25 2.4 Eligibility of finance for activities contributing substantially to adaptation ....................... 27 2.5 Classification of climate-related hazards ........................................................................ 28 3. Do no significant harm (DNSH) ............................................................................................. 29 3.1 DNSH to environmental objectives 3-6 ........................................................................... 29 3.2 DNSH to climate change adaptation ............................................................................... 29 3.3 DNSH to environmental objectives 3-6 ........................................................................... 31 Eligible NACE Codes - Points of Note .................................................36 3.4 Use of NACE ................................................................................................................... 36 3.5 Assessing the Taxonomy criteria for Green Debt and Loans ......................................... 37 Technical screening criteria: substantial contribution to climate change mitigation ...............................................................................39 1. 2. Forestry ................................................................................................................................. 40 1.1 Afforestation .................................................................................................................... 52 1.2 Rehabilitation, Restoration .............................................................................................. 60 1.3 Reforestation ................................................................................................................... 68 1.4 Existing forest management ........................................................................................... 76 1.5 Conservation forest ......................................................................................................... 85 Agriculture ........................................................................................................................... 102 - 3- \\x0c2.1 Growing of perennial crops ........................................................................................... 112 2.3 Growing of non-perennial crops .................................................................................... 126 2.4 Livestock production ..................................................................................................... 140 3. Manufacturing...................................................................................................................... 155 3.1 Manufacture of Low carbon technologies ..................................................................... 162 3.2 Manufacture of Cement ................................................................................................ 167 3.3 Manufacture of Aluminium ............................................................................................ 172 3.4 Manufacture of Iron and Steel ...................................................................................... 176 3.5 Manufacture of Hydrogen ............................................................................................. 180 3.6 Manufacture of other inorganic basic chemicals .......................................................... 183 3.7 Manufacture of other organic basic chemicals ............................................................. 189 3.8 Manufacture of fertilizers and nitrogen compounds ...................................................... 196 3.9 Manufacture of plastics in primary form ........................................................................ 200 4. Electricity, gas, steam and air conditioning supply ............................................................. 205 4.1 Production of Electricity from Solar PV ......................................................................... 212 4.2 Production of Electricity from Concentrated Solar Power ............................................. 215 4.3 Production of Electricity from Wind Power.................................................................... 218 4.4 Production of Electricity from Ocean Energy ................................................................ 221 4.5 Production of Electricity from Hydropower.................................................................... 224 4.6 Production of Electricity from Geothermal .................................................................... 228 4.7 Production of Electricity from Gas (not exclusive to natural gas) ................................. 231 4.8 Production of Electricity from Bioenergy (Biomass, Biogas and Biofuels) ................... 234 4.9 Transmission and Distribution of Electricity .................................................................. 238 4.10 Storage of Electricity ..................................................................................................... 243 4.11 Storage of Thermal Energy ........................................................................................... 245 4.12 Storage of Hydrogen ..................................................................................................... 247 4.13 Manufacture of Biomass, Biogas or Biofuels ................................................................ 249 4.14 Retrofit of Gas Transmission and Distribution Networks .............................................. 252 4.15 District Heating/Cooling Distribution ............................................................................. 255 4.16 Installation and operation of Electric Heat Pumps ........................................................ 258 4.17 Cogeneration of Heat/Cool and Power from Concentrated Solar Power ..................... 260 4.18 Cogeneration of Heat/Cool and Power from Geothermal Energy ................................ 263 4.19 Cogeneration of Heat/Cool and Power from Gas (not exclusive to natural gas) .......... 266 - 4- \\x0c4.20 Cogeneration of Heat/Cool and Power from Bioenergy (Biomass, Biogas, Biofuels) .. 269 4.21 Production of Heat/Cool from Concentrated Solar Power ............................................ 273 4.22 Production of Heat/Cool from Geothermal.................................................................... 275 4.23 Production of Heat/Cool from Gas Combustion ........................................................... 278 4.24 Production of Heat/Cool from Bioenergy (Biomass, Biogas and Biofuels) ................... 281 4.25 Production of Heat/Cool using Waste Heat .................................................................. 285 5. Water, sewerage, waste and remediation ........................................................................... 287 5.1 Water collection, treatment and supply ......................................................................... 293 5.2 Centralized wastewater treatment ................................................................................ 296 5.3 Anaerobic digestion of sewage sludge ......................................................................... 298 5.4 fractions Separate collection and transport of non-hazardous waste in source segregated 300 5.5 Anaerobic digestion of bio-waste .................................................................................. 302 5.6 Composting of bio-waste .............................................................................................. 305 5.7 Material recovery from non-hazardous waste .............................................................. 307 5.8 Landfill gas capture and utilization ................................................................................ 309 5.9 Direct Air Capture of CO2 ............................................................................................. 311 5.10 Capture of Anthropogenic Emissions ........................................................................... 313 5.11 Transport of CO2 .......................................................................................................... 316 5.12 Permanent Sequestration of Captured CO2 ................................................................. 319 6. Transportation and storage ................................................................................................. 321 6.1 Passenger rail transport (interurban) ............................................................................ 327 6.2 Freight rail transport ...................................................................................................... 330 6.3 Public transport ............................................................................................................. 332 6.4 Infrastructure for low carbon transport (land transport) ................................................ 335 6.5 Passenger cars and commercial vehicles .................................................................... 339 6.6 Freight transport services by road ................................................................................ 343 6.7 Interurban scheduled road transport ............................................................................. 346 6.8 Inland passenger water transport ................................................................................. 350 6.9 Inland freight water transport ........................................................................................ 353 6.10 Infrastructure for low carbon transport (water transport) .............................................. 356 7. Information and communications ........................................................................................ 359 7.1 Data processing, hosting and related activities ............................................................ 363 - 5- \\x0c7.2 8. Data-driven solutions for GHG emission reductions ..................................................... 365 Construction and real estate activities ................................................................................ 367 8.1 Construction of new buildings ....................................................................................... 375 8.2 Building renovation ....................................................................................................... 379 8.3 Individual measures and professional services ............................................................ 383 8.4 Acquisition and ownership ............................................................................................ 387 Technical screening criteria: substantial contribution to climate change adaptation ........................................................................... 391 1. Forestry ............................................................................................................................... 395 1.1 Afforestation .................................................................................................................. 395 1.2 Rehabilitation, Restoration ............................................................................................ 398 1.3 Reforestation ................................................................................................................. 398 1.4 Existing forest management ......................................................................................... 405 1.5 Conservation forest ....................................................................................................... 409 2. Agriculture ........................................................................................................................... 412 2.1 Growing of perennial crops ........................................................................................... 412 2.2 Growing of non-perennial crops .................................................................................... 416 2.3 Livestock production ..................................................................................................... 423 3. Manufacturing...................................................................................................................... 427 3.1 Manufacture of Low carbon technologies ..................................................................... 427 3.2 Manufacture of Cement ................................................................................................ 430 3.3 Manufacture of Aluminium ............................................................................................ 433 3.4 Manufacture of Iron and Steel ...................................................................................... 436 3.5 Manufacture of Hydrogen ............................................................................................. 439 3.6 Manufacture of other inorganic basic chemicals .......................................................... 442 3.7 Manufacture of other organic basic chemicals ............................................................. 447 3.8 Manufacture of fertilizers and nitrogen compounds ...................................................... 451 3.9 Manufacture of plastics in primary form ........................................................................ 453 4. Electricity, gas, steam and air conditioning supply ............................................................. 456 4.1 Production of Electricity from Solar PV ......................................................................... 456 4.2 Production of Electricity from Concentrated Solar Power ............................................. 458 4.3 Production of Electricity from Wind Power.................................................................... 460 - 6- \\x0c4.4 Production of Electricity from Ocean Energy ................................................................ 462 4.5 Production of Electricity from Hydropower.................................................................... 464 4.6 Production of Electricity from Geothermal .................................................................... 471 4.7 Production of Electricity from Gas (not exclusive to natural gas) ................................. 473 4.8 Production of Electricity from Bioenergy (Biomass, Biogas and Biofuels) ................... 475 4.9 Transmission and Distribution of Electricity .................................................................. 479 4.10 Storage of Electricity ..................................................................................................... 485 4.11 Storage of Thermal Energy ........................................................................................... 487 4.12 Storage of Hydrogen ..................................................................................................... 489 4.13 Manufacture of Biomass, Biogas or Biofuels ................................................................ 491 4.14 Retrofit of Gas Transmission and Distribution Networks .............................................. 493 4.15 District Heating/Cooling Distribution ............................................................................. 495 4.16 Installation and operation of Electric Heat Pumps ........................................................ 497 4.17 Cogeneration of Heat/Cool and Power from Concentrated Solar Power ..................... 498 4.18 Cogeneration of Heat/Cool and Power from Geothermal Energy ................................ 500 4.19 Cogeneration of Heat/Cool and Power from Gas (not exclusive to natural gas) .......... 502 4.20 Cogeneration of Heat/Cool and Power from Bioenergy (Biomass, Biogas, Biofuels) .. 504 4.22 Production of Heat/Cool from Concentrated Solar Power ............................................ 507 4.23 Production of Heat/Cool from Geothermal.................................................................... 509 4.24 Production of Heat/Cool from Gas (not exclusive to natural gas) ................................ 511 4.25 Production of Heat/Cool from Bioenergy (Biomass, Biogas and Biofuels) ................... 513 4.26 Production of Heat/Cool using Waste Heat .................................................................. 516 5. Water, sewerage, waste and remediation ........................................................................... 518 5.1 Water collection, treatment and supply ......................................................................... 518 5.2 Centralized wastewater treatment ................................................................................ 520 5.3 Anaerobic digestion of sewage sludge ......................................................................... 526 5.4 fractions Separate collection and transport of non-hazardous waste in source segregated 531 5.5 Anaerobic digestion of bio-waste .................................................................................. 532 5.6 Composting of bio-waste .............................................................................................. 534 5.7 Material recovery from non-hazardous waste .............................................................. 536 5.8 Landfill gas capture and utilization ................................................................................ 537 5.9 Direct Air Capture of CO2 ............................................................................................. 539 - 7- \\x0c5.10 Capture of Anthropogenic Emissions ........................................................................... 541 5.11 Transport of CO2 .......................................................................................................... 543 5.12 Permanent Sequestration of Captured CO2 ................................................................. 545 6. Transportation and storage ................................................................................................. 547 6.1 Passenger rail transport (interurban) ............................................................................ 547 6.2 Freight rail transport ...................................................................................................... 549 6.3 Public transport ............................................................................................................. 551 6.4 Infrastructure for low carbon transport (land transport) ................................................ 553 6.5 Passenger cars and commercial vehicles .................................................................... 556 6.6 Freight transport services by road ................................................................................ 558 6.7 Interurban scheduled road transport ............................................................................. 560 6.8 Inland passenger water transport ................................................................................. 562 6.9 Inland freight water transport ........................................................................................ 564 6.10 Infrastructure for low carbon transport (water transport) .............................................. 566 7. Buildings .............................................................................................................................. 568 7.1 Construction of new buildings ....................................................................................... 568 7.2 Building renovation ....................................................................................................... 571 8. Financial and insurance activities ....................................................................................... 573 8.1 9. Non-life insurance ......................................................................................................... 574 Professional, scientific and technical activities ................................................................... 578 9.1 Engineering activities and related technical consultancy dedicated to adaptation to climate change ................................................................................................................................... 578 Additional adaptation activities for future consideration .............. 580 10. Professional, scientific and technical activities ................................................................... 582 10.1 11. Research and development (natural sciences and engineering) ................................. 582 Information and communication .......................................................................................... 584 11.1 forecast Provision of specialised telecommunications applications for weather monitoring and 584 Sectoral climate sensitivity matrices ............................................. 586 1. Agriculture, Forestry ............................................................................................................ 586 2. Electricity, Gas, Steam and Air Conditioning Supply .......................................................... 589 3. Information and Communication ......................................................................................... 589 - 8- \\x0c4. Financial and Insurance Activities ....................................................................................... 592 5. Water Supply, Sewerage, Waste Management and Remediation Activities ...................... 593 - 9- \\x0cMethodology statements 1. SUBSTANTIAL CONTRIBUTION TO CLIMATE CHANGE MITIGATION 1.1 Work process – conceptual approach In the June 2019 report, the TEG explained the process used to assess and select economic activities for inclusion in the Taxonomy. (Shown in Figure 1). The Taxonomy Regulation has not materially changed'"
      ]
     },
     "execution_count": 106,
     "metadata": {},
     "output_type": "execute_result"
    }
   ],
   "source": [
    "clean_paragraph(paragraphs[3])"
   ]
  },
  {
   "cell_type": "markdown",
   "id": "f0da95d3",
   "metadata": {},
   "source": [
    "## Store the paragraphs in a DataFrame with the column “paragraph” using the pandas library and save the DataFrame."
   ]
  },
  {
   "cell_type": "code",
   "execution_count": 86,
   "id": "33f9a08f",
   "metadata": {},
   "outputs": [],
   "source": [
    "df = pd.DataFrame(data=paragraphs)\n",
    "df.columns=['paragraph']"
   ]
  },
  {
   "cell_type": "code",
   "execution_count": 87,
   "id": "0374efb5",
   "metadata": {},
   "outputs": [
    {
     "data": {
      "text/html": [
       "<div>\n",
       "<style scoped>\n",
       "    .dataframe tbody tr th:only-of-type {\n",
       "        vertical-align: middle;\n",
       "    }\n",
       "\n",
       "    .dataframe tbody tr th {\n",
       "        vertical-align: top;\n",
       "    }\n",
       "\n",
       "    .dataframe thead th {\n",
       "        text-align: right;\n",
       "    }\n",
       "</style>\n",
       "<table border=\"1\" class=\"dataframe\">\n",
       "  <thead>\n",
       "    <tr style=\"text-align: right;\">\n",
       "      <th></th>\n",
       "      <th>paragraph</th>\n",
       "    </tr>\n",
       "  </thead>\n",
       "  <tbody>\n",
       "    <tr>\n",
       "      <th>0</th>\n",
       "      <td>Updated methodology &amp; Updated Technical Screen...</td>\n",
       "    </tr>\n",
       "    <tr>\n",
       "      <th>1</th>\n",
       "      <td>This has been updated since 2019.</td>\n",
       "    </tr>\n",
       "    <tr>\n",
       "      <th>2</th>\n",
       "      <td>\\nPART F\\n\\nFull list of technical screening c...</td>\n",
       "    </tr>\n",
       "    <tr>\n",
       "      <th>3</th>\n",
       "      <td>\\n- 2-\\n\\n\f",
       "Contents\\nMethodology statements .....</td>\n",
       "    </tr>\n",
       "    <tr>\n",
       "      <th>4</th>\n",
       "      <td>\\nFigure 1 Work process for technical screenin...</td>\n",
       "    </tr>\n",
       "  </tbody>\n",
       "</table>\n",
       "</div>"
      ],
      "text/plain": [
       "                                           paragraph\n",
       "0  Updated methodology & Updated Technical Screen...\n",
       "1                  This has been updated since 2019.\n",
       "2  \\nPART F\\n\\nFull list of technical screening c...\n",
       "3  \\n- 2-\\n\\n\n",
       "Contents\\nMethodology statements .....\n",
       "4  \\nFigure 1 Work process for technical screenin..."
      ]
     },
     "execution_count": 87,
     "metadata": {},
     "output_type": "execute_result"
    }
   ],
   "source": [
    "df.head()"
   ]
  },
  {
   "cell_type": "code",
   "execution_count": 119,
   "id": "89fc3fd2",
   "metadata": {},
   "outputs": [],
   "source": [
    "df['paragraph']=df['paragraph'].apply(clean_paragraph)"
   ]
  },
  {
   "cell_type": "code",
   "execution_count": null,
   "id": "8cded639",
   "metadata": {},
   "outputs": [],
   "source": []
  }
 ],
 "metadata": {
  "kernelspec": {
   "display_name": "Python 3 (ipykernel)",
   "language": "python",
   "name": "python3"
  },
  "language_info": {
   "codemirror_mode": {
    "name": "ipython",
    "version": 3
   },
   "file_extension": ".py",
   "mimetype": "text/x-python",
   "name": "python",
   "nbconvert_exporter": "python",
   "pygments_lexer": "ipython3",
   "version": "3.9.1+"
  }
 },
 "nbformat": 4,
 "nbformat_minor": 5
}
